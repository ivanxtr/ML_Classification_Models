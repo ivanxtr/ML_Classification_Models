{
 "cells": [
  {
   "cell_type": "code",
   "execution_count": 1,
   "metadata": {},
   "outputs": [
    {
     "name": "stdout",
     "output_type": "stream",
     "text": [
      "Defaulting to user installation because normal site-packages is not writeable\n",
      "Requirement already satisfied: librosa in /Users/ivanrodriguez/Library/Python/3.8/lib/python/site-packages (0.9.1)\n",
      "Requirement already satisfied: resampy>=0.2.2 in /Users/ivanrodriguez/Library/Python/3.8/lib/python/site-packages (from librosa) (0.2.2)\n",
      "Requirement already satisfied: numpy>=1.17.0 in /Users/ivanrodriguez/Library/Python/3.8/lib/python/site-packages (from librosa) (1.21.6)\n",
      "Requirement already satisfied: decorator>=4.0.10 in /Users/ivanrodriguez/Library/Python/3.8/lib/python/site-packages (from librosa) (4.4.2)\n",
      "Requirement already satisfied: pooch>=1.0 in /Users/ivanrodriguez/Library/Python/3.8/lib/python/site-packages (from librosa) (1.6.0)\n",
      "Requirement already satisfied: numba>=0.45.1 in /Users/ivanrodriguez/Library/Python/3.8/lib/python/site-packages (from librosa) (0.55.1)\n",
      "Requirement already satisfied: soundfile>=0.10.2 in /Users/ivanrodriguez/Library/Python/3.8/lib/python/site-packages (from librosa) (0.10.3.post1)\n",
      "Requirement already satisfied: scikit-learn>=0.19.1 in /Users/ivanrodriguez/Library/Python/3.8/lib/python/site-packages (from librosa) (1.0.2)\n",
      "Requirement already satisfied: packaging>=20.0 in /Users/ivanrodriguez/Library/Python/3.8/lib/python/site-packages (from librosa) (21.3)\n",
      "Requirement already satisfied: scipy>=1.2.0 in /Users/ivanrodriguez/Library/Python/3.8/lib/python/site-packages (from librosa) (1.8.0)\n",
      "Requirement already satisfied: audioread>=2.1.5 in /Users/ivanrodriguez/Library/Python/3.8/lib/python/site-packages (from librosa) (2.1.9)\n",
      "Requirement already satisfied: joblib>=0.14 in /Users/ivanrodriguez/Library/Python/3.8/lib/python/site-packages (from librosa) (1.1.0)\n",
      "Requirement already satisfied: setuptools in /Library/Frameworks/Python.framework/Versions/3.8/lib/python3.8/site-packages (from numba>=0.45.1->librosa) (41.2.0)\n",
      "Requirement already satisfied: llvmlite<0.39,>=0.38.0rc1 in /Users/ivanrodriguez/Library/Python/3.8/lib/python/site-packages (from numba>=0.45.1->librosa) (0.38.0)\n",
      "Requirement already satisfied: pyparsing!=3.0.5,>=2.0.2 in /Users/ivanrodriguez/Library/Python/3.8/lib/python/site-packages (from packaging>=20.0->librosa) (3.0.8)\n",
      "Requirement already satisfied: requests>=2.19.0 in /Users/ivanrodriguez/Library/Python/3.8/lib/python/site-packages (from pooch>=1.0->librosa) (2.27.1)\n",
      "Requirement already satisfied: appdirs>=1.3.0 in /Users/ivanrodriguez/Library/Python/3.8/lib/python/site-packages (from pooch>=1.0->librosa) (1.4.4)\n",
      "Requirement already satisfied: urllib3<1.27,>=1.21.1 in /Users/ivanrodriguez/Library/Python/3.8/lib/python/site-packages (from requests>=2.19.0->pooch>=1.0->librosa) (1.26.9)\n",
      "Requirement already satisfied: certifi>=2017.4.17 in /Users/ivanrodriguez/Library/Python/3.8/lib/python/site-packages (from requests>=2.19.0->pooch>=1.0->librosa) (2021.10.8)\n",
      "Requirement already satisfied: idna<4,>=2.5 in /Users/ivanrodriguez/Library/Python/3.8/lib/python/site-packages (from requests>=2.19.0->pooch>=1.0->librosa) (3.3)\n",
      "Requirement already satisfied: charset-normalizer~=2.0.0 in /Users/ivanrodriguez/Library/Python/3.8/lib/python/site-packages (from requests>=2.19.0->pooch>=1.0->librosa) (2.0.12)\n",
      "Requirement already satisfied: six>=1.3 in /Users/ivanrodriguez/Library/Python/3.8/lib/python/site-packages (from resampy>=0.2.2->librosa) (1.15.0)\n",
      "Requirement already satisfied: threadpoolctl>=2.0.0 in /Users/ivanrodriguez/Library/Python/3.8/lib/python/site-packages (from scikit-learn>=0.19.1->librosa) (3.1.0)\n",
      "Requirement already satisfied: cffi>=1.0 in /Users/ivanrodriguez/Library/Python/3.8/lib/python/site-packages (from soundfile>=0.10.2->librosa) (1.15.0)\n",
      "Requirement already satisfied: pycparser in /Users/ivanrodriguez/Library/Python/3.8/lib/python/site-packages (from cffi>=1.0->soundfile>=0.10.2->librosa) (2.21)\n",
      "\u001b[33mWARNING: You are using pip version 21.2.4; however, version 22.1 is available.\n",
      "You should consider upgrading via the '/usr/local/bin/python3.8 -m pip install --upgrade pip' command.\u001b[0m\n",
      "Note: you may need to restart the kernel to use updated packages.\n",
      "Defaulting to user installation because normal site-packages is not writeable\n",
      "Requirement already satisfied: tensorflow in /Users/ivanrodriguez/Library/Python/3.8/lib/python/site-packages (2.8.0)\n",
      "Requirement already satisfied: absl-py>=0.4.0 in /Users/ivanrodriguez/Library/Python/3.8/lib/python/site-packages (from tensorflow) (1.0.0)\n",
      "Requirement already satisfied: flatbuffers>=1.12 in /Users/ivanrodriguez/Library/Python/3.8/lib/python/site-packages (from tensorflow) (2.0)\n",
      "Requirement already satisfied: h5py>=2.9.0 in /Users/ivanrodriguez/Library/Python/3.8/lib/python/site-packages (from tensorflow) (3.6.0)\n",
      "Requirement already satisfied: libclang>=9.0.1 in /Users/ivanrodriguez/Library/Python/3.8/lib/python/site-packages (from tensorflow) (14.0.1)\n",
      "Requirement already satisfied: numpy>=1.20 in /Users/ivanrodriguez/Library/Python/3.8/lib/python/site-packages (from tensorflow) (1.21.6)\n",
      "Requirement already satisfied: wrapt>=1.11.0 in /Users/ivanrodriguez/Library/Python/3.8/lib/python/site-packages (from tensorflow) (1.14.1)\n",
      "Requirement already satisfied: opt-einsum>=2.3.2 in /Users/ivanrodriguez/Library/Python/3.8/lib/python/site-packages (from tensorflow) (3.3.0)\n",
      "Requirement already satisfied: google-pasta>=0.1.1 in /Users/ivanrodriguez/Library/Python/3.8/lib/python/site-packages (from tensorflow) (0.2.0)\n",
      "Requirement already satisfied: six>=1.12.0 in /Users/ivanrodriguez/Library/Python/3.8/lib/python/site-packages (from tensorflow) (1.15.0)\n",
      "Requirement already satisfied: keras-preprocessing>=1.1.1 in /Users/ivanrodriguez/Library/Python/3.8/lib/python/site-packages (from tensorflow) (1.1.2)\n",
      "Requirement already satisfied: keras<2.9,>=2.8.0rc0 in /Users/ivanrodriguez/Library/Python/3.8/lib/python/site-packages (from tensorflow) (2.8.0)\n",
      "Requirement already satisfied: tf-estimator-nightly==2.8.0.dev2021122109 in /Users/ivanrodriguez/Library/Python/3.8/lib/python/site-packages (from tensorflow) (2.8.0.dev2021122109)\n",
      "Requirement already satisfied: tensorflow-io-gcs-filesystem>=0.23.1 in /Users/ivanrodriguez/Library/Python/3.8/lib/python/site-packages (from tensorflow) (0.25.0)\n",
      "Requirement already satisfied: gast>=0.2.1 in /Users/ivanrodriguez/Library/Python/3.8/lib/python/site-packages (from tensorflow) (0.5.3)\n",
      "Requirement already satisfied: protobuf>=3.9.2 in /Users/ivanrodriguez/Library/Python/3.8/lib/python/site-packages (from tensorflow) (3.20.1)\n",
      "Requirement already satisfied: setuptools in /Library/Frameworks/Python.framework/Versions/3.8/lib/python3.8/site-packages (from tensorflow) (41.2.0)\n",
      "Requirement already satisfied: typing-extensions>=3.6.6 in /Users/ivanrodriguez/Library/Python/3.8/lib/python/site-packages (from tensorflow) (4.2.0)\n",
      "Requirement already satisfied: astunparse>=1.6.0 in /Users/ivanrodriguez/Library/Python/3.8/lib/python/site-packages (from tensorflow) (1.6.3)\n",
      "Requirement already satisfied: tensorboard<2.9,>=2.8 in /Users/ivanrodriguez/Library/Python/3.8/lib/python/site-packages (from tensorflow) (2.8.0)\n",
      "Requirement already satisfied: grpcio<2.0,>=1.24.3 in /Users/ivanrodriguez/Library/Python/3.8/lib/python/site-packages (from tensorflow) (1.46.0)\n",
      "Requirement already satisfied: termcolor>=1.1.0 in /Users/ivanrodriguez/Library/Python/3.8/lib/python/site-packages (from tensorflow) (1.1.0)\n",
      "Requirement already satisfied: wheel<1.0,>=0.23.0 in /Users/ivanrodriguez/Library/Python/3.8/lib/python/site-packages (from astunparse>=1.6.0->tensorflow) (0.37.1)\n",
      "Requirement already satisfied: google-auth<3,>=1.6.3 in /Users/ivanrodriguez/Library/Python/3.8/lib/python/site-packages (from tensorboard<2.9,>=2.8->tensorflow) (2.6.6)\n",
      "Requirement already satisfied: google-auth-oauthlib<0.5,>=0.4.1 in /Users/ivanrodriguez/Library/Python/3.8/lib/python/site-packages (from tensorboard<2.9,>=2.8->tensorflow) (0.4.6)\n",
      "Requirement already satisfied: markdown>=2.6.8 in /Users/ivanrodriguez/Library/Python/3.8/lib/python/site-packages (from tensorboard<2.9,>=2.8->tensorflow) (3.3.6)\n",
      "Requirement already satisfied: tensorboard-plugin-wit>=1.6.0 in /Users/ivanrodriguez/Library/Python/3.8/lib/python/site-packages (from tensorboard<2.9,>=2.8->tensorflow) (1.8.1)\n",
      "Requirement already satisfied: werkzeug>=0.11.15 in /Users/ivanrodriguez/Library/Python/3.8/lib/python/site-packages (from tensorboard<2.9,>=2.8->tensorflow) (1.0.1)\n",
      "Requirement already satisfied: requests<3,>=2.21.0 in /Users/ivanrodriguez/Library/Python/3.8/lib/python/site-packages (from tensorboard<2.9,>=2.8->tensorflow) (2.27.1)\n",
      "Requirement already satisfied: tensorboard-data-server<0.7.0,>=0.6.0 in /Users/ivanrodriguez/Library/Python/3.8/lib/python/site-packages (from tensorboard<2.9,>=2.8->tensorflow) (0.6.1)\n",
      "Requirement already satisfied: rsa<5,>=3.1.4 in /Users/ivanrodriguez/Library/Python/3.8/lib/python/site-packages (from google-auth<3,>=1.6.3->tensorboard<2.9,>=2.8->tensorflow) (4.8)\n",
      "Requirement already satisfied: pyasn1-modules>=0.2.1 in /Users/ivanrodriguez/Library/Python/3.8/lib/python/site-packages (from google-auth<3,>=1.6.3->tensorboard<2.9,>=2.8->tensorflow) (0.2.8)\n",
      "Requirement already satisfied: cachetools<6.0,>=2.0.0 in /Users/ivanrodriguez/Library/Python/3.8/lib/python/site-packages (from google-auth<3,>=1.6.3->tensorboard<2.9,>=2.8->tensorflow) (5.0.0)\n",
      "Requirement already satisfied: requests-oauthlib>=0.7.0 in /Users/ivanrodriguez/Library/Python/3.8/lib/python/site-packages (from google-auth-oauthlib<0.5,>=0.4.1->tensorboard<2.9,>=2.8->tensorflow) (1.3.1)\n",
      "Requirement already satisfied: importlib-metadata>=4.4 in /Users/ivanrodriguez/Library/Python/3.8/lib/python/site-packages (from markdown>=2.6.8->tensorboard<2.9,>=2.8->tensorflow) (4.11.3)\n",
      "Requirement already satisfied: zipp>=0.5 in /Users/ivanrodriguez/Library/Python/3.8/lib/python/site-packages (from importlib-metadata>=4.4->markdown>=2.6.8->tensorboard<2.9,>=2.8->tensorflow) (3.8.0)\n",
      "Requirement already satisfied: pyasn1<0.5.0,>=0.4.6 in /Users/ivanrodriguez/Library/Python/3.8/lib/python/site-packages (from pyasn1-modules>=0.2.1->google-auth<3,>=1.6.3->tensorboard<2.9,>=2.8->tensorflow) (0.4.8)\n",
      "Requirement already satisfied: idna<4,>=2.5 in /Users/ivanrodriguez/Library/Python/3.8/lib/python/site-packages (from requests<3,>=2.21.0->tensorboard<2.9,>=2.8->tensorflow) (3.3)\n",
      "Requirement already satisfied: charset-normalizer~=2.0.0 in /Users/ivanrodriguez/Library/Python/3.8/lib/python/site-packages (from requests<3,>=2.21.0->tensorboard<2.9,>=2.8->tensorflow) (2.0.12)\n",
      "Requirement already satisfied: certifi>=2017.4.17 in /Users/ivanrodriguez/Library/Python/3.8/lib/python/site-packages (from requests<3,>=2.21.0->tensorboard<2.9,>=2.8->tensorflow) (2021.10.8)\n",
      "Requirement already satisfied: urllib3<1.27,>=1.21.1 in /Users/ivanrodriguez/Library/Python/3.8/lib/python/site-packages (from requests<3,>=2.21.0->tensorboard<2.9,>=2.8->tensorflow) (1.26.9)\n",
      "Requirement already satisfied: oauthlib>=3.0.0 in /Users/ivanrodriguez/Library/Python/3.8/lib/python/site-packages (from requests-oauthlib>=0.7.0->google-auth-oauthlib<0.5,>=0.4.1->tensorboard<2.9,>=2.8->tensorflow) (3.2.0)\n",
      "\u001b[33mWARNING: You are using pip version 21.2.4; however, version 22.1 is available.\n",
      "You should consider upgrading via the '/usr/local/bin/python3.8 -m pip install --upgrade pip' command.\u001b[0m\n",
      "Note: you may need to restart the kernel to use updated packages.\n"
     ]
    }
   ],
   "source": [
    "%pip install librosa \n",
    "%pip install tensorflow"
   ]
  },
  {
   "cell_type": "code",
   "execution_count": 2,
   "metadata": {},
   "outputs": [],
   "source": [
    "import matplotlib.pyplot as plt\n",
    "%matplotlib inline\n",
    "import seaborn as sns\n",
    "import librosa"
   ]
  },
  {
   "cell_type": "code",
   "execution_count": 3,
   "metadata": {},
   "outputs": [
    {
     "data": {
      "text/html": [
       "<div>\n",
       "<style scoped>\n",
       "    .dataframe tbody tr th:only-of-type {\n",
       "        vertical-align: middle;\n",
       "    }\n",
       "\n",
       "    .dataframe tbody tr th {\n",
       "        vertical-align: top;\n",
       "    }\n",
       "\n",
       "    .dataframe thead th {\n",
       "        text-align: right;\n",
       "    }\n",
       "</style>\n",
       "<table border=\"1\" class=\"dataframe\">\n",
       "  <thead>\n",
       "    <tr style=\"text-align: right;\">\n",
       "      <th></th>\n",
       "      <th>age</th>\n",
       "      <th>age_onset</th>\n",
       "      <th>birthplace</th>\n",
       "      <th>filename</th>\n",
       "      <th>native_language</th>\n",
       "      <th>sex</th>\n",
       "      <th>speakerid</th>\n",
       "      <th>country</th>\n",
       "      <th>file_missing?</th>\n",
       "      <th>native_class</th>\n",
       "      <th>patientId</th>\n",
       "      <th>Unnamed: 11</th>\n",
       "    </tr>\n",
       "  </thead>\n",
       "  <tbody>\n",
       "    <tr>\n",
       "      <th>0</th>\n",
       "      <td>27.0</td>\n",
       "      <td>9.0</td>\n",
       "      <td>virginia, south africa</td>\n",
       "      <td>afrikaans1</td>\n",
       "      <td>afrikaans</td>\n",
       "      <td>female</td>\n",
       "      <td>1</td>\n",
       "      <td>south africa</td>\n",
       "      <td>False</td>\n",
       "      <td>True</td>\n",
       "      <td>ivan1</td>\n",
       "      <td>NaN</td>\n",
       "    </tr>\n",
       "    <tr>\n",
       "      <th>1</th>\n",
       "      <td>40.0</td>\n",
       "      <td>5.0</td>\n",
       "      <td>pretoria, south africa</td>\n",
       "      <td>afrikaans2</td>\n",
       "      <td>afrikaans</td>\n",
       "      <td>male</td>\n",
       "      <td>2</td>\n",
       "      <td>south africa</td>\n",
       "      <td>False</td>\n",
       "      <td>True</td>\n",
       "      <td>ivan1</td>\n",
       "      <td>NaN</td>\n",
       "    </tr>\n",
       "    <tr>\n",
       "      <th>2</th>\n",
       "      <td>43.0</td>\n",
       "      <td>4.0</td>\n",
       "      <td>pretoria, transvaal, south africa</td>\n",
       "      <td>afrikaans3</td>\n",
       "      <td>afrikaans</td>\n",
       "      <td>male</td>\n",
       "      <td>418</td>\n",
       "      <td>south africa</td>\n",
       "      <td>False</td>\n",
       "      <td>True</td>\n",
       "      <td>ivan1</td>\n",
       "      <td>NaN</td>\n",
       "    </tr>\n",
       "    <tr>\n",
       "      <th>3</th>\n",
       "      <td>26.0</td>\n",
       "      <td>8.0</td>\n",
       "      <td>pretoria, south africa</td>\n",
       "      <td>afrikaans4</td>\n",
       "      <td>afrikaans</td>\n",
       "      <td>male</td>\n",
       "      <td>1159</td>\n",
       "      <td>south africa</td>\n",
       "      <td>False</td>\n",
       "      <td>True</td>\n",
       "      <td>ivan1</td>\n",
       "      <td>NaN</td>\n",
       "    </tr>\n",
       "    <tr>\n",
       "      <th>4</th>\n",
       "      <td>19.0</td>\n",
       "      <td>6.0</td>\n",
       "      <td>cape town, south africa</td>\n",
       "      <td>afrikaans5</td>\n",
       "      <td>afrikaans</td>\n",
       "      <td>male</td>\n",
       "      <td>1432</td>\n",
       "      <td>south africa</td>\n",
       "      <td>False</td>\n",
       "      <td>True</td>\n",
       "      <td>ivan1</td>\n",
       "      <td>NaN</td>\n",
       "    </tr>\n",
       "    <tr>\n",
       "      <th>5</th>\n",
       "      <td>25.0</td>\n",
       "      <td>15.0</td>\n",
       "      <td>diekabo, ivory coast</td>\n",
       "      <td>agni1</td>\n",
       "      <td>agni</td>\n",
       "      <td>male</td>\n",
       "      <td>3</td>\n",
       "      <td>ivory coast</td>\n",
       "      <td>False</td>\n",
       "      <td>True</td>\n",
       "      <td>ivan1</td>\n",
       "      <td>NaN</td>\n",
       "    </tr>\n",
       "    <tr>\n",
       "      <th>6</th>\n",
       "      <td>41.0</td>\n",
       "      <td>5.0</td>\n",
       "      <td>accra, ghana</td>\n",
       "      <td>akan1</td>\n",
       "      <td>akan</td>\n",
       "      <td>male</td>\n",
       "      <td>979</td>\n",
       "      <td>ghana</td>\n",
       "      <td>False</td>\n",
       "      <td>True</td>\n",
       "      <td>ivan1</td>\n",
       "      <td>NaN</td>\n",
       "    </tr>\n",
       "    <tr>\n",
       "      <th>7</th>\n",
       "      <td>19.0</td>\n",
       "      <td>6.0</td>\n",
       "      <td>prishtina, kosovo</td>\n",
       "      <td>albanian1</td>\n",
       "      <td>albanian</td>\n",
       "      <td>male</td>\n",
       "      <td>4</td>\n",
       "      <td>kosovo</td>\n",
       "      <td>False</td>\n",
       "      <td>True</td>\n",
       "      <td>ivan1</td>\n",
       "      <td>NaN</td>\n",
       "    </tr>\n",
       "    <tr>\n",
       "      <th>8</th>\n",
       "      <td>33.0</td>\n",
       "      <td>15.0</td>\n",
       "      <td>tirana, albania</td>\n",
       "      <td>albanian2</td>\n",
       "      <td>albanian</td>\n",
       "      <td>male</td>\n",
       "      <td>5</td>\n",
       "      <td>albania</td>\n",
       "      <td>False</td>\n",
       "      <td>True</td>\n",
       "      <td>ivan1</td>\n",
       "      <td>NaN</td>\n",
       "    </tr>\n",
       "    <tr>\n",
       "      <th>9</th>\n",
       "      <td>44.0</td>\n",
       "      <td>35.0</td>\n",
       "      <td>tirana, albania</td>\n",
       "      <td>albanian3</td>\n",
       "      <td>albanian</td>\n",
       "      <td>male</td>\n",
       "      <td>458</td>\n",
       "      <td>albania</td>\n",
       "      <td>False</td>\n",
       "      <td>True</td>\n",
       "      <td>ivan1</td>\n",
       "      <td>NaN</td>\n",
       "    </tr>\n",
       "  </tbody>\n",
       "</table>\n",
       "</div>"
      ],
      "text/plain": [
       "    age  age_onset                         birthplace    filename  \\\n",
       "0  27.0        9.0             virginia, south africa  afrikaans1   \n",
       "1  40.0        5.0             pretoria, south africa  afrikaans2   \n",
       "2  43.0        4.0  pretoria, transvaal, south africa  afrikaans3   \n",
       "3  26.0        8.0             pretoria, south africa  afrikaans4   \n",
       "4  19.0        6.0            cape town, south africa  afrikaans5   \n",
       "5  25.0       15.0               diekabo, ivory coast       agni1   \n",
       "6  41.0        5.0                       accra, ghana       akan1   \n",
       "7  19.0        6.0                  prishtina, kosovo   albanian1   \n",
       "8  33.0       15.0                    tirana, albania   albanian2   \n",
       "9  44.0       35.0                    tirana, albania   albanian3   \n",
       "\n",
       "  native_language     sex  speakerid       country  file_missing?  \\\n",
       "0       afrikaans  female          1  south africa          False   \n",
       "1       afrikaans    male          2  south africa          False   \n",
       "2       afrikaans    male        418  south africa          False   \n",
       "3       afrikaans    male       1159  south africa          False   \n",
       "4       afrikaans    male       1432  south africa          False   \n",
       "5            agni    male          3   ivory coast          False   \n",
       "6            akan    male        979         ghana          False   \n",
       "7        albanian    male          4        kosovo          False   \n",
       "8        albanian    male          5       albania          False   \n",
       "9        albanian    male        458       albania          False   \n",
       "\n",
       "   native_class patientId  Unnamed: 11  \n",
       "0          True     ivan1          NaN  \n",
       "1          True     ivan1          NaN  \n",
       "2          True     ivan1          NaN  \n",
       "3          True     ivan1          NaN  \n",
       "4          True     ivan1          NaN  \n",
       "5          True     ivan1          NaN  \n",
       "6          True     ivan1          NaN  \n",
       "7          True     ivan1          NaN  \n",
       "8          True     ivan1          NaN  \n",
       "9          True     ivan1          NaN  "
      ]
     },
     "execution_count": 3,
     "metadata": {},
     "output_type": "execute_result"
    }
   ],
   "source": [
    "import pandas as pd\n",
    "metadata = pd.read_csv('./voices_dataset/speakers_all.csv')\n",
    "metadata.head(10)"
   ]
  },
  {
   "cell_type": "code",
   "execution_count": 4,
   "metadata": {},
   "outputs": [
    {
     "data": {
      "text/plain": [
       "arabic       102\n",
       "dutch         42\n",
       "cantonese     23\n",
       "amharic       20\n",
       "bulgarian     18\n",
       "bengali       17\n",
       "Name: native_language, dtype: int64"
      ]
     },
     "execution_count": 4,
     "metadata": {},
     "output_type": "execute_result"
    }
   ],
   "source": [
    "data_to_use = metadata[metadata['native_class'] == False]\n",
    "# data_to_use['native_language'].value_counts()\n",
    "metadata = data_to_use\n",
    "metadata['native_language'].value_counts()"
   ]
  },
  {
   "cell_type": "code",
   "execution_count": 5,
   "metadata": {},
   "outputs": [],
   "source": [
    "## Extracting MFCC'S for every audio file\n",
    "audio_dataset_path = './voices_dataset/recordings_wav/'"
   ]
  },
  {
   "cell_type": "code",
   "execution_count": 6,
   "metadata": {},
   "outputs": [],
   "source": [
    "def features_extractor(file):\n",
    "    audio, sample_rate = librosa.load(file_name, res_type='kaiser_fast')\n",
    "    mfccs_features = librosa.feature.mfcc(y=audio, sr=sample_rate, n_mfcc=128)\n",
    "    mfccs_scaled_features = np.mean(mfccs_features.T,axis=0)\n",
    "    \n",
    "    return mfccs_scaled_features"
   ]
  },
  {
   "cell_type": "code",
   "execution_count": 7,
   "metadata": {},
   "outputs": [
    {
     "name": "stderr",
     "output_type": "stream",
     "text": [
      "222it [01:25,  2.60it/s]\n"
     ]
    }
   ],
   "source": [
    "import numpy as np\n",
    "import os\n",
    "from tqdm import tqdm\n",
    "### Now we iterate through every audio file and extract features \n",
    "### using Mel-Frequency Cepstral Coefficients\n",
    "extracted_features=[]\n",
    "for index_num,row in tqdm(metadata.iterrows()):\n",
    "    file_name = os.path.join(os.path.abspath(audio_dataset_path),str(row[\"filename\"]) + str('-gain.wav'))\n",
    "    final_class_labels=row[\"native_language\"]\n",
    "    data=features_extractor(file_name)\n",
    "    extracted_features.append([data,final_class_labels])"
   ]
  },
  {
   "cell_type": "code",
   "execution_count": 8,
   "metadata": {},
   "outputs": [
    {
     "data": {
      "text/html": [
       "<div>\n",
       "<style scoped>\n",
       "    .dataframe tbody tr th:only-of-type {\n",
       "        vertical-align: middle;\n",
       "    }\n",
       "\n",
       "    .dataframe tbody tr th {\n",
       "        vertical-align: top;\n",
       "    }\n",
       "\n",
       "    .dataframe thead th {\n",
       "        text-align: right;\n",
       "    }\n",
       "</style>\n",
       "<table border=\"1\" class=\"dataframe\">\n",
       "  <thead>\n",
       "    <tr style=\"text-align: right;\">\n",
       "      <th></th>\n",
       "      <th>feature</th>\n",
       "      <th>native_language</th>\n",
       "    </tr>\n",
       "  </thead>\n",
       "  <tbody>\n",
       "    <tr>\n",
       "      <th>0</th>\n",
       "      <td>[-341.28854, 104.94958, 29.585915, 36.79861, 1...</td>\n",
       "      <td>amharic</td>\n",
       "    </tr>\n",
       "    <tr>\n",
       "      <th>1</th>\n",
       "      <td>[-383.52597, 105.40056, 18.184828, 32.105137, ...</td>\n",
       "      <td>amharic</td>\n",
       "    </tr>\n",
       "    <tr>\n",
       "      <th>2</th>\n",
       "      <td>[-299.42505, 88.47966, 17.990448, 40.02904, 4....</td>\n",
       "      <td>amharic</td>\n",
       "    </tr>\n",
       "    <tr>\n",
       "      <th>3</th>\n",
       "      <td>[-297.64392, 105.14598, 21.00998, 48.18276, 5....</td>\n",
       "      <td>amharic</td>\n",
       "    </tr>\n",
       "    <tr>\n",
       "      <th>4</th>\n",
       "      <td>[-330.03546, 89.63933, 19.428076, 37.235043, 1...</td>\n",
       "      <td>amharic</td>\n",
       "    </tr>\n",
       "    <tr>\n",
       "      <th>5</th>\n",
       "      <td>[-323.99893, 143.62692, 8.782082, 38.291607, -...</td>\n",
       "      <td>amharic</td>\n",
       "    </tr>\n",
       "    <tr>\n",
       "      <th>6</th>\n",
       "      <td>[-351.30518, 131.708, 4.8169694, 30.451023, -0...</td>\n",
       "      <td>amharic</td>\n",
       "    </tr>\n",
       "    <tr>\n",
       "      <th>7</th>\n",
       "      <td>[-347.50696, 117.743904, -30.558903, 24.777813...</td>\n",
       "      <td>amharic</td>\n",
       "    </tr>\n",
       "    <tr>\n",
       "      <th>8</th>\n",
       "      <td>[-300.79492, 89.627144, 5.064329, 22.388256, 8...</td>\n",
       "      <td>amharic</td>\n",
       "    </tr>\n",
       "    <tr>\n",
       "      <th>9</th>\n",
       "      <td>[-362.49753, 88.59295, -23.98448, 22.366228, -...</td>\n",
       "      <td>amharic</td>\n",
       "    </tr>\n",
       "  </tbody>\n",
       "</table>\n",
       "</div>"
      ],
      "text/plain": [
       "                                             feature native_language\n",
       "0  [-341.28854, 104.94958, 29.585915, 36.79861, 1...         amharic\n",
       "1  [-383.52597, 105.40056, 18.184828, 32.105137, ...         amharic\n",
       "2  [-299.42505, 88.47966, 17.990448, 40.02904, 4....         amharic\n",
       "3  [-297.64392, 105.14598, 21.00998, 48.18276, 5....         amharic\n",
       "4  [-330.03546, 89.63933, 19.428076, 37.235043, 1...         amharic\n",
       "5  [-323.99893, 143.62692, 8.782082, 38.291607, -...         amharic\n",
       "6  [-351.30518, 131.708, 4.8169694, 30.451023, -0...         amharic\n",
       "7  [-347.50696, 117.743904, -30.558903, 24.777813...         amharic\n",
       "8  [-300.79492, 89.627144, 5.064329, 22.388256, 8...         amharic\n",
       "9  [-362.49753, 88.59295, -23.98448, 22.366228, -...         amharic"
      ]
     },
     "execution_count": 8,
     "metadata": {},
     "output_type": "execute_result"
    }
   ],
   "source": [
    "### converting extracted_features to pandas dataframe\n",
    "extracted_features_df = pd.DataFrame(extracted_features, columns=['feature', 'native_language'])\n",
    "extracted_features_df.head(10)"
   ]
  },
  {
   "cell_type": "code",
   "execution_count": 9,
   "metadata": {},
   "outputs": [],
   "source": [
    "## Split the dataset into independent and dependent dataset\n",
    "X = np.array(extracted_features_df['feature'].tolist())\n",
    "y = np.array(extracted_features_df['native_language'].tolist())"
   ]
  },
  {
   "cell_type": "code",
   "execution_count": 10,
   "metadata": {},
   "outputs": [
    {
     "data": {
      "text/plain": [
       "(222, 128)"
      ]
     },
     "execution_count": 10,
     "metadata": {},
     "output_type": "execute_result"
    }
   ],
   "source": [
    "X.shape"
   ]
  },
  {
   "cell_type": "code",
   "execution_count": 11,
   "metadata": {},
   "outputs": [],
   "source": [
    "### Label encoding\n",
    "y = np.array(pd.get_dummies(y))"
   ]
  },
  {
   "cell_type": "code",
   "execution_count": 79,
   "metadata": {},
   "outputs": [],
   "source": [
    "### Train Test\n",
    "from sklearn.model_selection import train_test_split\n",
    "X_train, X_test, y_train, y_test = train_test_split(X, y, test_size=0.3, random_state=1)"
   ]
  },
  {
   "cell_type": "code",
   "execution_count": 80,
   "metadata": {},
   "outputs": [
    {
     "data": {
      "text/plain": [
       "(155, 128)"
      ]
     },
     "execution_count": 80,
     "metadata": {},
     "output_type": "execute_result"
    }
   ],
   "source": [
    "X_train.shape"
   ]
  },
  {
   "cell_type": "code",
   "execution_count": 81,
   "metadata": {},
   "outputs": [
    {
     "data": {
      "text/plain": [
       "(67, 128)"
      ]
     },
     "execution_count": 81,
     "metadata": {},
     "output_type": "execute_result"
    }
   ],
   "source": [
    "X_test.shape"
   ]
  },
  {
   "cell_type": "code",
   "execution_count": 82,
   "metadata": {},
   "outputs": [
    {
     "data": {
      "text/plain": [
       "(155, 6)"
      ]
     },
     "execution_count": 82,
     "metadata": {},
     "output_type": "execute_result"
    }
   ],
   "source": [
    "y_train.shape"
   ]
  },
  {
   "cell_type": "code",
   "execution_count": 83,
   "metadata": {},
   "outputs": [
    {
     "data": {
      "text/plain": [
       "(67, 6)"
      ]
     },
     "execution_count": 83,
     "metadata": {},
     "output_type": "execute_result"
    }
   ],
   "source": [
    "y_test.shape"
   ]
  },
  {
   "cell_type": "code",
   "execution_count": 84,
   "metadata": {},
   "outputs": [],
   "source": [
    "import tensorflow as tf\n",
    "from tensorflow.keras.models import Sequential\n",
    "from tensorflow.keras.layers import Dense, Dropout, Activation, Flatten\n",
    "from tensorflow.keras.optimizers import Adam\n",
    "from sklearn import metrics"
   ]
  },
  {
   "cell_type": "code",
   "execution_count": 85,
   "metadata": {},
   "outputs": [
    {
     "data": {
      "text/plain": [
       "6"
      ]
     },
     "execution_count": 85,
     "metadata": {},
     "output_type": "execute_result"
    }
   ],
   "source": [
    "## number of countries\n",
    "num_labels = y.shape[1]\n",
    "num_labels"
   ]
  },
  {
   "cell_type": "code",
   "execution_count": 86,
   "metadata": {},
   "outputs": [],
   "source": [
    "model = Sequential()\n",
    "### first layer\n",
    "model.add(Dense(250, input_shape=(128,)))\n",
    "model.add(Activation('relu'))\n",
    "model.add(Dropout(0.5))\n",
    "### second layer\n",
    "model.add(Dense(250))\n",
    "model.add(Activation('relu'))\n",
    "model.add(Dropout(0.5))\n",
    "### third layer\n",
    "model.add(Dense(250))\n",
    "model.add(Activation('relu'))\n",
    "model.add(Dropout(0.5))\n",
    "###fourth layer\n",
    "model.add(Dense(250))\n",
    "model.add(Activation('relu'))\n",
    "model.add(Dropout(0.5))\n",
    "model.add(Flatten())\n",
    "### final layer\n",
    "model.add(Dense(num_labels))\n",
    "model.add(Activation('softmax'))"
   ]
  },
  {
   "cell_type": "code",
   "execution_count": 87,
   "metadata": {},
   "outputs": [
    {
     "name": "stdout",
     "output_type": "stream",
     "text": [
      "Model: \"sequential_3\"\n",
      "_________________________________________________________________\n",
      " Layer (type)                Output Shape              Param #   \n",
      "=================================================================\n",
      " dense_15 (Dense)            (None, 250)               32250     \n",
      "                                                                 \n",
      " activation_15 (Activation)  (None, 250)               0         \n",
      "                                                                 \n",
      " dropout_12 (Dropout)        (None, 250)               0         \n",
      "                                                                 \n",
      " dense_16 (Dense)            (None, 250)               62750     \n",
      "                                                                 \n",
      " activation_16 (Activation)  (None, 250)               0         \n",
      "                                                                 \n",
      " dropout_13 (Dropout)        (None, 250)               0         \n",
      "                                                                 \n",
      " dense_17 (Dense)            (None, 250)               62750     \n",
      "                                                                 \n",
      " activation_17 (Activation)  (None, 250)               0         \n",
      "                                                                 \n",
      " dropout_14 (Dropout)        (None, 250)               0         \n",
      "                                                                 \n",
      " dense_18 (Dense)            (None, 250)               62750     \n",
      "                                                                 \n",
      " activation_18 (Activation)  (None, 250)               0         \n",
      "                                                                 \n",
      " dropout_15 (Dropout)        (None, 250)               0         \n",
      "                                                                 \n",
      " flatten_3 (Flatten)         (None, 250)               0         \n",
      "                                                                 \n",
      " dense_19 (Dense)            (None, 6)                 1506      \n",
      "                                                                 \n",
      " activation_19 (Activation)  (None, 6)                 0         \n",
      "                                                                 \n",
      "=================================================================\n",
      "Total params: 222,006\n",
      "Trainable params: 222,006\n",
      "Non-trainable params: 0\n",
      "_________________________________________________________________\n"
     ]
    }
   ],
   "source": [
    "model.summary()"
   ]
  },
  {
   "cell_type": "code",
   "execution_count": 88,
   "metadata": {},
   "outputs": [],
   "source": [
    "model.compile(\n",
    "  loss='categorical_crossentropy',\n",
    "  metrics=['accuracy','mae'],\n",
    "  optimizer='adam'\n",
    ")"
   ]
  },
  {
   "cell_type": "code",
   "execution_count": 89,
   "metadata": {},
   "outputs": [
    {
     "name": "stdout",
     "output_type": "stream",
     "text": [
      "Epoch 1/200\n",
      "1/5 [=====>........................] - ETA: 2s - loss: 52.1000 - accuracy: 0.0312 - mae: 0.3229\n",
      "Epoch 1: val_loss improved from inf to 9.60229, saving model to saved_models/audio_classification.hdf5\n",
      "5/5 [==============================] - 1s 65ms/step - loss: 36.5558 - accuracy: 0.1548 - mae: 0.2807 - val_loss: 9.6023 - val_accuracy: 0.5373 - val_mae: 0.1542\n",
      "Epoch 2/200\n",
      "1/5 [=====>........................] - ETA: 0s - loss: 21.8946 - accuracy: 0.3125 - mae: 0.2286\n",
      "Epoch 2: val_loss improved from 9.60229 to 6.97200, saving model to saved_models/audio_classification.hdf5\n",
      "5/5 [==============================] - 0s 20ms/step - loss: 24.6023 - accuracy: 0.2839 - mae: 0.2378 - val_loss: 6.9720 - val_accuracy: 0.5373 - val_mae: 0.1542\n",
      "Epoch 3/200\n",
      "1/5 [=====>........................] - ETA: 0s - loss: 26.2238 - accuracy: 0.2188 - mae: 0.2498\n",
      "Epoch 3: val_loss improved from 6.97200 to 2.73056, saving model to saved_models/audio_classification.hdf5\n",
      "5/5 [==============================] - 0s 18ms/step - loss: 17.2234 - accuracy: 0.2903 - mae: 0.2329 - val_loss: 2.7306 - val_accuracy: 0.5373 - val_mae: 0.1658\n",
      "Epoch 4/200\n",
      "1/5 [=====>........................] - ETA: 0s - loss: 19.7912 - accuracy: 0.3750 - mae: 0.2104\n",
      "Epoch 4: val_loss improved from 2.73056 to 1.76596, saving model to saved_models/audio_classification.hdf5\n",
      "5/5 [==============================] - 0s 19ms/step - loss: 16.1055 - accuracy: 0.2516 - mae: 0.2483 - val_loss: 1.7660 - val_accuracy: 0.5373 - val_mae: 0.2152\n",
      "Epoch 5/200\n",
      "1/5 [=====>........................] - ETA: 0s - loss: 11.0759 - accuracy: 0.3125 - mae: 0.2254\n",
      "Epoch 5: val_loss improved from 1.76596 to 1.56668, saving model to saved_models/audio_classification.hdf5\n",
      "5/5 [==============================] - 0s 19ms/step - loss: 12.3782 - accuracy: 0.2710 - mae: 0.2460 - val_loss: 1.5667 - val_accuracy: 0.5373 - val_mae: 0.2206\n",
      "Epoch 6/200\n",
      "1/5 [=====>........................] - ETA: 0s - loss: 10.8296 - accuracy: 0.2188 - mae: 0.2533\n",
      "Epoch 6: val_loss improved from 1.56668 to 1.51676, saving model to saved_models/audio_classification.hdf5\n",
      "5/5 [==============================] - 0s 19ms/step - loss: 11.4981 - accuracy: 0.2516 - mae: 0.2479 - val_loss: 1.5168 - val_accuracy: 0.5224 - val_mae: 0.2265\n",
      "Epoch 7/200\n",
      "1/5 [=====>........................] - ETA: 0s - loss: 9.2493 - accuracy: 0.2812 - mae: 0.2346\n",
      "Epoch 7: val_loss improved from 1.51676 to 1.47425, saving model to saved_models/audio_classification.hdf5\n",
      "5/5 [==============================] - 0s 17ms/step - loss: 9.1885 - accuracy: 0.2968 - mae: 0.2344 - val_loss: 1.4742 - val_accuracy: 0.5373 - val_mae: 0.2342\n",
      "Epoch 8/200\n",
      "1/5 [=====>........................] - ETA: 0s - loss: 9.9501 - accuracy: 0.2188 - mae: 0.2635\n",
      "Epoch 8: val_loss did not improve from 1.47425\n",
      "5/5 [==============================] - 0s 11ms/step - loss: 9.3043 - accuracy: 0.2129 - mae: 0.2616 - val_loss: 1.5071 - val_accuracy: 0.5373 - val_mae: 0.2477\n",
      "Epoch 9/200\n",
      "1/5 [=====>........................] - ETA: 0s - loss: 6.2278 - accuracy: 0.3125 - mae: 0.2327\n",
      "Epoch 9: val_loss did not improve from 1.47425\n",
      "5/5 [==============================] - 0s 9ms/step - loss: 7.0085 - accuracy: 0.2581 - mae: 0.2473 - val_loss: 1.6253 - val_accuracy: 0.4627 - val_mae: 0.2614\n",
      "Epoch 10/200\n",
      "1/5 [=====>........................] - ETA: 0s - loss: 6.3870 - accuracy: 0.2188 - mae: 0.2619\n",
      "Epoch 10: val_loss did not improve from 1.47425\n",
      "5/5 [==============================] - 0s 10ms/step - loss: 6.6170 - accuracy: 0.2903 - mae: 0.2402 - val_loss: 1.6268 - val_accuracy: 0.4030 - val_mae: 0.2631\n",
      "Epoch 11/200\n",
      "1/5 [=====>........................] - ETA: 0s - loss: 7.6187 - accuracy: 0.1875 - mae: 0.2672\n",
      "Epoch 11: val_loss did not improve from 1.47425\n",
      "5/5 [==============================] - 0s 9ms/step - loss: 7.0733 - accuracy: 0.2194 - mae: 0.2619 - val_loss: 1.6288 - val_accuracy: 0.4776 - val_mae: 0.2646\n",
      "Epoch 12/200\n",
      "1/5 [=====>........................] - ETA: 0s - loss: 9.2624 - accuracy: 0.2188 - mae: 0.2610\n",
      "Epoch 12: val_loss did not improve from 1.47425\n",
      "5/5 [==============================] - 0s 9ms/step - loss: 6.2231 - accuracy: 0.2065 - mae: 0.2600 - val_loss: 1.6242 - val_accuracy: 0.4925 - val_mae: 0.2638\n",
      "Epoch 13/200\n",
      "1/5 [=====>........................] - ETA: 0s - loss: 8.5340 - accuracy: 0.1250 - mae: 0.2919\n",
      "Epoch 13: val_loss did not improve from 1.47425\n",
      "5/5 [==============================] - 0s 9ms/step - loss: 5.9966 - accuracy: 0.2258 - mae: 0.2622 - val_loss: 1.6188 - val_accuracy: 0.4776 - val_mae: 0.2621\n",
      "Epoch 14/200\n",
      "1/5 [=====>........................] - ETA: 0s - loss: 4.8740 - accuracy: 0.2188 - mae: 0.2521\n",
      "Epoch 14: val_loss did not improve from 1.47425\n",
      "5/5 [==============================] - 0s 9ms/step - loss: 5.0964 - accuracy: 0.2258 - mae: 0.2538 - val_loss: 1.6161 - val_accuracy: 0.5224 - val_mae: 0.2633\n",
      "Epoch 15/200\n",
      "1/5 [=====>........................] - ETA: 0s - loss: 4.4095 - accuracy: 0.3125 - mae: 0.2302\n",
      "Epoch 15: val_loss did not improve from 1.47425\n",
      "5/5 [==============================] - 0s 9ms/step - loss: 4.4424 - accuracy: 0.3226 - mae: 0.2340 - val_loss: 1.6289 - val_accuracy: 0.4776 - val_mae: 0.2652\n",
      "Epoch 16/200\n",
      "1/5 [=====>........................] - ETA: 0s - loss: 3.7064 - accuracy: 0.3125 - mae: 0.2289\n",
      "Epoch 16: val_loss did not improve from 1.47425\n",
      "5/5 [==============================] - 0s 9ms/step - loss: 4.1505 - accuracy: 0.2710 - mae: 0.2465 - val_loss: 1.6486 - val_accuracy: 0.4925 - val_mae: 0.2668\n",
      "Epoch 17/200\n",
      "1/5 [=====>........................] - ETA: 0s - loss: 4.6042 - accuracy: 0.3125 - mae: 0.2337\n",
      "Epoch 17: val_loss did not improve from 1.47425\n",
      "5/5 [==============================] - 0s 11ms/step - loss: 4.5822 - accuracy: 0.2387 - mae: 0.2552 - val_loss: 1.6859 - val_accuracy: 0.4179 - val_mae: 0.2699\n",
      "Training completed in time:  0:00:01.936738\n"
     ]
    }
   ],
   "source": [
    "## Trianing my model\n",
    "from tensorflow.keras.callbacks import ModelCheckpoint\n",
    "from datetime import datetime \n",
    "\n",
    "num_epochs = 200\n",
    "num_batch_size = 32\n",
    "\n",
    "checkpointer = ModelCheckpoint(filepath='saved_models/audio_classification.hdf5', \n",
    "                               verbose=1, save_best_only=True)\n",
    "\n",
    "early_stop = tf.keras.callbacks.EarlyStopping(\n",
    "      monitor='val_loss', patience=10)\n",
    "\n",
    "start = datetime.now()\n",
    "\n",
    "history = model.fit(\n",
    "  X_train,\n",
    "  y_train,\n",
    "  batch_size=num_batch_size,\n",
    "  epochs=num_epochs,\n",
    "  validation_data=(X_test, y_test),\n",
    "  callbacks=[checkpointer, early_stop],\n",
    "  verbose=1\n",
    ")\n",
    "\n",
    "\n",
    "duration = datetime.now() - start\n",
    "print(\"Training completed in time: \", duration)"
   ]
  },
  {
   "cell_type": "code",
   "execution_count": 90,
   "metadata": {},
   "outputs": [
    {
     "data": {
      "text/plain": [
       "[1.6859490871429443, 0.41791045665740967, 0.26992273330688477]"
      ]
     },
     "execution_count": 90,
     "metadata": {},
     "output_type": "execute_result"
    }
   ],
   "source": [
    "test_accuracy = model.evaluate(X_test, y_test, verbose = 0)\n",
    "test_accuracy"
   ]
  },
  {
   "cell_type": "code",
   "execution_count": 91,
   "metadata": {},
   "outputs": [],
   "source": [
    "def plot_history(history):     \n",
    "  hist = pd.DataFrame(history.history)\n",
    "  hist['epoch'] = history.epoch\n",
    "\n",
    "  plt.figure()\n",
    "  plt.xlabel('Epoch')\n",
    "  plt.ylabel('Mean Square Error')\n",
    "  plt.plot(hist['epoch'], hist['mae'],'r--',\n",
    "           label='Training Error')\n",
    "  plt.plot(hist['epoch'], hist['accuracy'],'b',\n",
    "          label = 'Validation Error')\n",
    "  plt.ylim([0,20])\n",
    "  plt.legend()\n",
    "  plt.show()"
   ]
  },
  {
   "cell_type": "code",
   "execution_count": 92,
   "metadata": {},
   "outputs": [
    {
     "data": {
      "image/png": "[encoded data removed]",
      "text/plain": [
       "<Figure size 432x288 with 1 Axes>"
      ]
     },
     "metadata": {
      "needs_background": "light"
     },
     "output_type": "display_data"
    }
   ],
   "source": [
    "plot_history(history)"
   ]
  },
  {
   "cell_type": "code",
   "execution_count": 93,
   "metadata": {},
   "outputs": [
    {
     "data": {
      "text/plain": [
       "array([5])"
      ]
     },
     "execution_count": 93,
     "metadata": {},
     "output_type": "execute_result"
    }
   ],
   "source": [
    "### testing the model\n",
    "test_filename = './voices_dataset/recordings_wav/amharic14-gain.wav'\n",
    "audio, sample_rate = librosa.load(test_filename, res_type='kaiser_fast')\n",
    "mfccs_features = librosa.feature.mfcc(y=audio, sr=sample_rate, n_mfcc=128)\n",
    "mfccs_scaled_features = np.mean(mfccs_features.T, axis=0)\n",
    "# print(mfccs_scaled_features)\n",
    "\n",
    "# using juts one item\n",
    "mfccs_scaled_features = mfccs_scaled_features.reshape(1, -1)\n",
    "#print(mfccs_scaled_features)\n",
    "#print(mfccs_scaled_features.shape)\n",
    "\n",
    "predicted_label = model.predict(mfccs_scaled_features)\n",
    "predicted_classes = np.argmax(predicted_label, axis=1)\n",
    "predicted_classes"
   ]
  },
  {
   "cell_type": "code",
   "execution_count": 94,
   "metadata": {},
   "outputs": [
    {
     "data": {
      "text/plain": [
       "array(['dutch'], dtype=object)"
      ]
     },
     "execution_count": 94,
     "metadata": {},
     "output_type": "execute_result"
    }
   ],
   "source": [
    "from tensorflow.keras.utils import to_categorical\n",
    "from sklearn.preprocessing import LabelEncoder\n",
    "labelencoder = LabelEncoder()\n",
    "y = to_categorical(labelencoder.fit_transform(metadata['native_language']))\n",
    "\n",
    "prediction_class = labelencoder.inverse_transform(predicted_classes)\n",
    "prediction_class"
   ]
  },
  {
   "cell_type": "code",
   "execution_count": 95,
   "metadata": {},
   "outputs": [
    {
     "data": {
      "text/html": [
       "<div>\n",
       "<style scoped>\n",
       "    .dataframe tbody tr th:only-of-type {\n",
       "        vertical-align: middle;\n",
       "    }\n",
       "\n",
       "    .dataframe tbody tr th {\n",
       "        vertical-align: top;\n",
       "    }\n",
       "\n",
       "    .dataframe thead th {\n",
       "        text-align: right;\n",
       "    }\n",
       "</style>\n",
       "<table border=\"1\" class=\"dataframe\">\n",
       "  <thead>\n",
       "    <tr style=\"text-align: right;\">\n",
       "      <th></th>\n",
       "      <th>age</th>\n",
       "      <th>age_onset</th>\n",
       "      <th>birthplace</th>\n",
       "      <th>filename</th>\n",
       "      <th>native_language</th>\n",
       "      <th>sex</th>\n",
       "      <th>speakerid</th>\n",
       "      <th>country</th>\n",
       "      <th>file_missing?</th>\n",
       "      <th>native_class</th>\n",
       "      <th>patientId</th>\n",
       "      <th>Unnamed: 11</th>\n",
       "    </tr>\n",
       "  </thead>\n",
       "  <tbody>\n",
       "    <tr>\n",
       "      <th>18</th>\n",
       "      <td>20.0</td>\n",
       "      <td>5.0</td>\n",
       "      <td>addis ababa, ethiopia</td>\n",
       "      <td>amharic1</td>\n",
       "      <td>amharic</td>\n",
       "      <td>female</td>\n",
       "      <td>6</td>\n",
       "      <td>ethiopia</td>\n",
       "      <td>False</td>\n",
       "      <td>False</td>\n",
       "      <td>ivan3</td>\n",
       "      <td>NaN</td>\n",
       "    </tr>\n",
       "    <tr>\n",
       "      <th>19</th>\n",
       "      <td>29.0</td>\n",
       "      <td>19.0</td>\n",
       "      <td>gonder, ethiopia</td>\n",
       "      <td>amharic10</td>\n",
       "      <td>amharic</td>\n",
       "      <td>female</td>\n",
       "      <td>998</td>\n",
       "      <td>ethiopia</td>\n",
       "      <td>False</td>\n",
       "      <td>False</td>\n",
       "      <td>ivan3</td>\n",
       "      <td>NaN</td>\n",
       "    </tr>\n",
       "    <tr>\n",
       "      <th>20</th>\n",
       "      <td>24.0</td>\n",
       "      <td>17.0</td>\n",
       "      <td>addis ababa, ethiopia</td>\n",
       "      <td>amharic11</td>\n",
       "      <td>amharic</td>\n",
       "      <td>female</td>\n",
       "      <td>1129</td>\n",
       "      <td>ethiopia</td>\n",
       "      <td>False</td>\n",
       "      <td>False</td>\n",
       "      <td>ivan5</td>\n",
       "      <td>NaN</td>\n",
       "    </tr>\n",
       "    <tr>\n",
       "      <th>21</th>\n",
       "      <td>26.0</td>\n",
       "      <td>15.0</td>\n",
       "      <td>addis ababa, ethiopia</td>\n",
       "      <td>amharic12</td>\n",
       "      <td>amharic</td>\n",
       "      <td>female</td>\n",
       "      <td>1130</td>\n",
       "      <td>ethiopia</td>\n",
       "      <td>False</td>\n",
       "      <td>False</td>\n",
       "      <td>ivan5</td>\n",
       "      <td>NaN</td>\n",
       "    </tr>\n",
       "    <tr>\n",
       "      <th>22</th>\n",
       "      <td>28.0</td>\n",
       "      <td>6.0</td>\n",
       "      <td>addis ababa, ethiopia</td>\n",
       "      <td>amharic13</td>\n",
       "      <td>amharic</td>\n",
       "      <td>female</td>\n",
       "      <td>1131</td>\n",
       "      <td>ethiopia</td>\n",
       "      <td>False</td>\n",
       "      <td>False</td>\n",
       "      <td>ivan5</td>\n",
       "      <td>NaN</td>\n",
       "    </tr>\n",
       "    <tr>\n",
       "      <th>23</th>\n",
       "      <td>31.0</td>\n",
       "      <td>12.0</td>\n",
       "      <td>addis ababa, ethiopia</td>\n",
       "      <td>amharic14</td>\n",
       "      <td>amharic</td>\n",
       "      <td>male</td>\n",
       "      <td>1515</td>\n",
       "      <td>ethiopia</td>\n",
       "      <td>False</td>\n",
       "      <td>False</td>\n",
       "      <td>ivan5</td>\n",
       "      <td>NaN</td>\n",
       "    </tr>\n",
       "    <tr>\n",
       "      <th>24</th>\n",
       "      <td>23.0</td>\n",
       "      <td>6.0</td>\n",
       "      <td>addis ababa, ethiopia</td>\n",
       "      <td>amharic15</td>\n",
       "      <td>amharic</td>\n",
       "      <td>male</td>\n",
       "      <td>1516</td>\n",
       "      <td>ethiopia</td>\n",
       "      <td>False</td>\n",
       "      <td>False</td>\n",
       "      <td>ivan5</td>\n",
       "      <td>NaN</td>\n",
       "    </tr>\n",
       "    <tr>\n",
       "      <th>25</th>\n",
       "      <td>36.0</td>\n",
       "      <td>11.0</td>\n",
       "      <td>werder, ethiopia</td>\n",
       "      <td>amharic16</td>\n",
       "      <td>amharic</td>\n",
       "      <td>male</td>\n",
       "      <td>1854</td>\n",
       "      <td>ethiopia</td>\n",
       "      <td>False</td>\n",
       "      <td>False</td>\n",
       "      <td>ivan5</td>\n",
       "      <td>NaN</td>\n",
       "    </tr>\n",
       "    <tr>\n",
       "      <th>26</th>\n",
       "      <td>21.0</td>\n",
       "      <td>9.0</td>\n",
       "      <td>addis ababa, ethiopia</td>\n",
       "      <td>amharic17</td>\n",
       "      <td>amharic</td>\n",
       "      <td>male</td>\n",
       "      <td>1906</td>\n",
       "      <td>ethiopia</td>\n",
       "      <td>False</td>\n",
       "      <td>False</td>\n",
       "      <td>ivan5</td>\n",
       "      <td>NaN</td>\n",
       "    </tr>\n",
       "    <tr>\n",
       "      <th>27</th>\n",
       "      <td>20.0</td>\n",
       "      <td>2.0</td>\n",
       "      <td>addis ababa, ethiopia</td>\n",
       "      <td>amharic18</td>\n",
       "      <td>amharic</td>\n",
       "      <td>female</td>\n",
       "      <td>2017</td>\n",
       "      <td>ethiopia</td>\n",
       "      <td>False</td>\n",
       "      <td>False</td>\n",
       "      <td>ivan5</td>\n",
       "      <td>NaN</td>\n",
       "    </tr>\n",
       "  </tbody>\n",
       "</table>\n",
       "</div>"
      ],
      "text/plain": [
       "     age  age_onset             birthplace   filename native_language     sex  \\\n",
       "18  20.0        5.0  addis ababa, ethiopia   amharic1         amharic  female   \n",
       "19  29.0       19.0       gonder, ethiopia  amharic10         amharic  female   \n",
       "20  24.0       17.0  addis ababa, ethiopia  amharic11         amharic  female   \n",
       "21  26.0       15.0  addis ababa, ethiopia  amharic12         amharic  female   \n",
       "22  28.0        6.0  addis ababa, ethiopia  amharic13         amharic  female   \n",
       "23  31.0       12.0  addis ababa, ethiopia  amharic14         amharic    male   \n",
       "24  23.0        6.0  addis ababa, ethiopia  amharic15         amharic    male   \n",
       "25  36.0       11.0       werder, ethiopia  amharic16         amharic    male   \n",
       "26  21.0        9.0  addis ababa, ethiopia  amharic17         amharic    male   \n",
       "27  20.0        2.0  addis ababa, ethiopia  amharic18         amharic  female   \n",
       "\n",
       "    speakerid   country  file_missing?  native_class patientId  Unnamed: 11  \n",
       "18          6  ethiopia          False         False     ivan3          NaN  \n",
       "19        998  ethiopia          False         False     ivan3          NaN  \n",
       "20       1129  ethiopia          False         False     ivan5          NaN  \n",
       "21       1130  ethiopia          False         False     ivan5          NaN  \n",
       "22       1131  ethiopia          False         False     ivan5          NaN  \n",
       "23       1515  ethiopia          False         False     ivan5          NaN  \n",
       "24       1516  ethiopia          False         False     ivan5          NaN  \n",
       "25       1854  ethiopia          False         False     ivan5          NaN  \n",
       "26       1906  ethiopia          False         False     ivan5          NaN  \n",
       "27       2017  ethiopia          False         False     ivan5          NaN  "
      ]
     },
     "execution_count": 95,
     "metadata": {},
     "output_type": "execute_result"
    }
   ],
   "source": [
    "metadata.head(10)"
   ]
  },
  {
   "cell_type": "code",
   "execution_count": 96,
   "metadata": {},
   "outputs": [],
   "source": [
    "# Look at confusion matrix \n",
    "#Note, this code is taken straight from the SKLEARN website, an nice way of viewing confusion matrix.\n",
    "def plot_confusion_matrix(cm, classes,\n",
    "                          normalize=False,\n",
    "                          title='Confusion matrix',\n",
    "                          cmap=plt.cm.Blues):\n",
    "    \"\"\"\n",
    "    This function prints and plots the confusion matrix.\n",
    "    Normalization can be applied by setting `normalize=True`.\n",
    "    \"\"\"\n",
    "    plt.imshow(cm, interpolation='nearest', cmap=cmap)\n",
    "    plt.title(title)\n",
    "    plt.colorbar()\n",
    "    tick_marks = np.arange(len(classes))\n",
    "    plt.xticks(tick_marks, classes, rotation=45)\n",
    "    plt.yticks(tick_marks, classes)\n",
    "\n",
    "    if normalize:\n",
    "        cm = cm.astype('float') / cm.sum(axis=1)[:, np.newaxis]\n",
    "\n",
    "    thresh = cm.max() / 2.\n",
    "    for i, j in itertools.product(range(cm.shape[0]), range(cm.shape[1])):\n",
    "        plt.text(j, i, cm[i, j],\n",
    "                 horizontalalignment=\"center\",\n",
    "                 color=\"white\" if cm[i, j] > thresh else \"black\")\n",
    "\n",
    "    plt.tight_layout()\n",
    "    plt.ylabel('Observación')\n",
    "    plt.xlabel('Predicción')"
   ]
  },
  {
   "cell_type": "code",
   "execution_count": 97,
   "metadata": {},
   "outputs": [
    {
     "data": {
      "image/png": "[encoded data removed]",
      "text/plain": [
       "<Figure size 432x288 with 2 Axes>"
      ]
     },
     "metadata": {
      "needs_background": "light"
     },
     "output_type": "display_data"
    }
   ],
   "source": [
    "from collections import Counter\n",
    "from sklearn.metrics import confusion_matrix\n",
    "import itertools\n",
    "\n",
    "# Predict the values from the validation dataset\n",
    "Y_pred = model.predict(X_test)\n",
    "# Convert predictions classes to one hot vectors \n",
    "Y_pred_classes = np.argmax(Y_pred, axis = 1) \n",
    "# Convert validation observations to one hot vectors\n",
    "Y_true = np.argmax(y_test, axis = 1) \n",
    "# compute the confusion matrix\n",
    "confusion_mtx = confusion_matrix(Y_true, Y_pred_classes) \n",
    "# plot the confusion matrix\n",
    "plot_confusion_matrix(confusion_mtx, classes = range(3))"
   ]
  }
 ],
 "metadata": {
  "interpreter": {
   "hash": "0adcc2737ebf6a4a119f135174df96668767fca1ef1112612db5ecadf2b6d608"
  },
  "kernelspec": {
   "display_name": "Python 3.8.1 64-bit",
   "language": "python",
   "name": "python3"
  },
  "language_info": {
   "codemirror_mode": {
    "name": "ipython",
    "version": 3
   },
   "file_extension": ".py",
   "mimetype": "text/x-python",
   "name": "python",
   "nbconvert_exporter": "python",
   "pygments_lexer": "ipython3",
   "version": "3.8.1"
  },
  "orig_nbformat": 4
 },
 "nbformat": 4,
 "nbformat_minor": 2
}
